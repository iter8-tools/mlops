{
 "cells": [
  {
   "cell_type": "markdown",
   "metadata": {},
   "source": [
    "# Import Python packages"
   ]
  },
  {
   "cell_type": "code",
   "execution_count": null,
   "metadata": {},
   "outputs": [],
   "source": [
    "import sys\n",
    "import tensorflow as tf\n",
    "from tensorflow import keras\n",
    "from tensorflow.keras import models, layers\n",
    "import matplotlib.pyplot as plt\n",
    "import numpy as np\n",
    "\n",
    "import json\n",
    "import requests\n",
    "import random\n",
    "import time\n",
    "\n",
    "# Confirm that we're using Python 3\n",
    "assert sys.version_info.major == 3, 'Oops, not running Python 3. Use Runtime > Change runtime type'\n",
    "print('TensorFlow version: {}'.format(tf.__version__))"
   ]
  },
  {
   "cell_type": "markdown",
   "metadata": {},
   "source": [
    "# Load Fashion MNIST data"
   ]
  },
  {
   "cell_type": "code",
   "execution_count": null,
   "metadata": {},
   "outputs": [],
   "source": [
    "fashionmnist = keras.datasets.fashion_mnist\n",
    "(train_images, train_labels), (test_images, test_labels) = fashionmnist.load_data()\n",
    "\n",
    "# scale the values to 0.0 to 1.0\n",
    "train_images = train_images / 255.0\n",
    "test_images = test_images / 255.0\n",
    "\n",
    "# reshape for feeding into the model\n",
    "train_images = train_images.reshape(train_images.shape[0], 28, 28, 1)\n",
    "test_images = test_images.reshape(test_images.shape[0], 28, 28, 1)\n",
    "\n",
    "class_names = ['T-shirt/top', 'Trouser', 'Pullover', 'Dress', 'Coat',\n",
    "               'Sandal', 'Shirt', 'Sneaker', 'Bag', 'Ankle boot']\n",
    "\n",
    "print('\\ntrain_images.shape: {}, of {}'.format(train_images.shape, train_images.dtype))\n",
    "print('test_images.shape: {}, of {}'.format(test_images.shape, test_images.dtype))"
   ]
  },
  {
   "cell_type": "markdown",
   "metadata": {},
   "source": [
    "# Build Version 1 of the Fashion MNIST image classification model"
   ]
  },
  {
   "cell_type": "code",
   "execution_count": null,
   "metadata": {},
   "outputs": [],
   "source": [
    "model1 = keras.Sequential([\n",
    "  keras.layers.Conv2D(input_shape=(28,28,1), filters=8, kernel_size=3, \n",
    "                      strides=2, activation='relu', name='Conv1'),\n",
    "  keras.layers.Flatten(),\n",
    "  keras.layers.Dense(10, activation=tf.nn.softmax, name='Softmax')\n",
    "])\n",
    "model1.summary()\n",
    "\n",
    "epochs = 5\n",
    "\n",
    "compilation_args = {\n",
    "    \"optimizer\": 'adam',\n",
    "    \"loss\": 'sparse_categorical_crossentropy',\n",
    "    \"metrics\": ['accuracy']\n",
    "}\n",
    "\n",
    "model1.compile(**compilation_args)\n",
    "model1.fit(train_images, train_labels, epochs=epochs)\n",
    "\n",
    "test_loss, test_acc = model1.evaluate(test_images, test_labels)\n",
    "print('\\nTest accuracy: {}'.format(test_acc))\n",
    "\n",
    "# save it\n",
    "MODEL_DIR='./models/1'\n",
    "model1.save(MODEL_DIR)\n",
    "\n",
    "# reconstruct it by loading\n",
    "reconstructed_model1 = keras.models.load_model(MODEL_DIR)\n",
    "# compile the loaded model\n",
    "reconstructed_model1.compile(**compilation_args)\n",
    "\n",
    "# ensure loaded model returns same predictions as saved model\n",
    "reconstructed_test_loss, reconstructed_test_acc = reconstructed_model1.evaluate(test_images, test_labels)\n",
    "np.testing.assert_allclose(\n",
    "    model1.predict(test_images), reconstructed_model1.predict(test_images)\n",
    ")\n",
    "\n",
    "print('\\nReconstructed test accuracy: {}'.format(reconstructed_test_acc))"
   ]
  },
  {
   "cell_type": "markdown",
   "metadata": {},
   "source": [
    "# Build Version 2 of the Fashion MNIST image classification model"
   ]
  },
  {
   "cell_type": "code",
   "execution_count": null,
   "metadata": {},
   "outputs": [],
   "source": [
    "model2 = keras.Sequential([\n",
    "  keras.layers.Conv2D(input_shape=(28,28,1), filters=16, kernel_size=4, \n",
    "                      strides=2, activation='relu', name='Conv1'),\n",
    "  keras.layers.Flatten(),\n",
    "  keras.layers.Dense(10, activation=tf.nn.softmax, name='Softmax')\n",
    "])\n",
    "model2.summary()\n",
    "\n",
    "epochs = 5\n",
    "\n",
    "model2.compile(**compilation_args)\n",
    "model2.fit(train_images, train_labels, epochs=epochs)\n",
    "\n",
    "test_loss, test_acc = model2.evaluate(test_images, test_labels)\n",
    "print('\\nTest accuracy: {}'.format(test_acc))\n",
    "\n",
    "# save it\n",
    "MODEL_DIR='./models/2'\n",
    "model2.save(MODEL_DIR)\n",
    "\n",
    "# reconstruct it by loading\n",
    "reconstructed_model2 = keras.models.load_model(MODEL_DIR)\n",
    "# compile the loaded model\n",
    "reconstructed_model2.compile(**compilation_args)\n",
    "\n",
    "# ensure loaded model returns same predictions as saved model\n",
    "reconstructed_test_loss, reconstructed_test_acc = reconstructed_model2.evaluate(test_images, test_labels)\n",
    "np.testing.assert_allclose(\n",
    "    model2.predict(test_images), reconstructed_model2.predict(test_images)\n",
    ")\n",
    "\n",
    "print('\\nReconstructed test accuracy: {}'.format(reconstructed_test_acc))"
   ]
  },
  {
   "cell_type": "markdown",
   "metadata": {},
   "source": [
    "# Build Version 3 of the Fashion MNIST image classification model"
   ]
  },
  {
   "cell_type": "code",
   "execution_count": null,
   "metadata": {},
   "outputs": [],
   "source": [
    "model3 = models.Sequential()\n",
    "model3.add(layers.Conv2D(32, (2, 2), activation='relu', input_shape=(28, 28, 1)))\n",
    "model3.add(layers.MaxPooling2D((2, 2)))\n",
    "model3.add(layers.Conv2D(32, (2, 2), activation='relu'))\n",
    "model3.add(layers.Flatten())\n",
    "model3.add(layers.Dropout(rate = 0.5))\n",
    "model3.add(layers.Dense(10, activation=tf.nn.softmax))\n",
    "\n",
    "model3.summary()\n",
    "\n",
    "epochs = 20\n",
    "\n",
    "model3.compile(**compilation_args)\n",
    "model3.fit(train_images, train_labels, epochs=epochs)\n",
    "\n",
    "test_loss, test_acc = model3.evaluate(test_images, test_labels)\n",
    "print('\\nTest accuracy: {}'.format(test_acc))\n",
    "\n",
    "# save it\n",
    "MODEL_DIR='./models/3'\n",
    "model3.save(MODEL_DIR)\n",
    "\n",
    "# reconstruct it by loading\n",
    "reconstructed_model3 = keras.models.load_model(MODEL_DIR)\n",
    "# compile the loaded model\n",
    "reconstructed_model3.compile(**compilation_args)\n",
    "\n",
    "# ensure loaded model returns same predictions as saved model\n",
    "reconstructed_test_loss, reconstructed_test_acc = reconstructed_model3.evaluate(test_images, test_labels)\n",
    "np.testing.assert_allclose(\n",
    "    model3.predict(test_images), reconstructed_model3.predict(test_images)\n",
    ")\n",
    "\n",
    "print('\\nReconstructed test accuracy: {}'.format(reconstructed_test_acc))"
   ]
  },
  {
   "cell_type": "markdown",
   "metadata": {},
   "source": [
    "# Create container images for the three model versions\n",
    "\n",
    "### These models are already dockerized and available from docker hub as pre-built images and are named/tagged as iter8/fashionmnist:v1, iter8/fashionmnist:v2, and iter8/fashionmnist:v3 respectively.\n",
    "\n",
    "### For building your own images from these models, refer to instructions on https://github.com/iter8-tools/mlops.\n",
    "\n",
    "\n",
    "# Serve the model images on a Kubernetes cluster\n",
    "### For deploying these on a Kubernetes cluster, refer to instructions on https://github.com/iter8-tools/mlops."
   ]
  },
  {
   "cell_type": "markdown",
   "metadata": {},
   "source": [
    "# Send an image to the deployed model"
   ]
  },
  {
   "cell_type": "code",
   "execution_count": 22,
   "metadata": {},
   "outputs": [],
   "source": [
    "def show(idx, title):\n",
    "  plt.figure()\n",
    "  plt.imshow(test_images[idx].reshape(28,28))\n",
    "  plt.axis('off')\n",
    "  plt.title('\\n\\n{}'.format(title), fontdict={'size': 16})"
   ]
  },
  {
   "cell_type": "code",
   "execution_count": 30,
   "metadata": {},
   "outputs": [
    {
     "data": {
      "image/png": "[encoded data removed]",
      "text/plain": [
       "<Figure size 432x288 with 1 Axes>"
      ]
     },
     "metadata": {
      "needs_background": "light"
     },
     "output_type": "display_data"
    }
   ],
   "source": [
    "# Depending upon where you are running the model, you will need to change the gateway_url below.\n",
    "\n",
    "# The code below determines the gateway_url for Kubernetes + istio on a Minikube environment \n",
    "# with Docker driver and a minikube tunnel.\n",
    "\n",
    "# If you are serving the model on any other (non-Minikube) Kubernetes cluster with Istio installed, \n",
    "# refer to instructions here on determining your gateway_url\n",
    "# https://istio.io/latest/docs/setup/getting-started/#determining-the-ingress-ip-and-ports\n",
    "\n",
    "ingress_host_list = !(minikube ip)\n",
    "# ingress_port_list = !(kubectl -n istio-system get service istio-ingressgateway -o jsonpath='{.spec.ports[?(@.name==\"http2\")].nodePort}')\n",
    "ingress_port_list = [80]\n",
    "gateway_url = \"http://{}:{}\".format(ingress_host_list[0], ingress_port_list[0])\n",
    "model_url = \"{}/v1/models/fashionmnist:predict\".format(gateway_url)\n",
    "\n",
    "rando = random.randint(0,len(test_images)-1)\n",
    "data = json.dumps({\"signature_name\": \"serving_default\", \"instances\": test_images[rando:rando + 1].tolist()})\n",
    "headers = {\"content-type\": \"application/json\", \"host\": \"fashionmnist.com\"}\n",
    "json_response = requests.post(model_url, data=data, headers=headers)\n",
    "predictions = json.loads(json_response.text)['predictions']\n",
    "\n",
    "show(rando, 'The model thought this was a {} (class {}), and it was actually a {} (class {})'.format(\n",
    "  class_names[np.argmax(predictions[0])], np.argmax(predictions[0]), class_names[test_labels[rando]], test_labels[rando]))"
   ]
  },
  {
   "cell_type": "markdown",
   "metadata": {},
   "source": [
    "# Send serialized images for classification to the model service"
   ]
  },
  {
   "cell_type": "code",
   "execution_count": null,
   "metadata": {},
   "outputs": [
    {
     "name": "stdout",
     "output_type": "stream",
     "text": [
      "The model thought this was a Sneaker (class 7), and it was actually a Sneaker (class 7)\n",
      "The model thought this was a Coat (class 4), and it was actually a Coat (class 4)\n",
      "The model thought this was a Dress (class 3), and it was actually a Dress (class 3)\n",
      "The model thought this was a Sandal (class 5), and it was actually a Sandal (class 5)\n",
      "The model thought this was a Sandal (class 5), and it was actually a Sandal (class 5)\n",
      "The model thought this was a T-shirt/top (class 0), and it was actually a T-shirt/top (class 0)\n",
      "Error:  Expecting value: line 1 column 1 (char 0)\n",
      "<Response [503]>\n",
      "no healthy upstream\n",
      "Error:  Expecting value: line 1 column 1 (char 0)\n",
      "<Response [503]>\n",
      "no healthy upstream\n",
      "Error:  Expecting value: line 1 column 1 (char 0)\n",
      "<Response [503]>\n",
      "no healthy upstream\n",
      "The model thought this was a Pullover (class 2), and it was actually a Pullover (class 2)\n",
      "The model thought this was a T-shirt/top (class 0), and it was actually a T-shirt/top (class 0)\n",
      "Error:  Expecting value: line 1 column 1 (char 0)\n",
      "<Response [503]>\n",
      "no healthy upstream\n",
      "Error:  Expecting value: line 1 column 1 (char 0)\n",
      "<Response [503]>\n",
      "no healthy upstream\n",
      "The model thought this was a Coat (class 4), and it was actually a Shirt (class 6)\n",
      "The model thought this was a Trouser (class 1), and it was actually a Trouser (class 1)\n",
      "The model thought this was a Ankle boot (class 9), and it was actually a Ankle boot (class 9)\n",
      "The model thought this was a Bag (class 8), and it was actually a Bag (class 8)\n",
      "The model thought this was a Pullover (class 2), and it was actually a Pullover (class 2)\n",
      "The model thought this was a Bag (class 8), and it was actually a Bag (class 8)\n",
      "The model thought this was a T-shirt/top (class 0), and it was actually a T-shirt/top (class 0)\n",
      "The model thought this was a Shirt (class 6), and it was actually a T-shirt/top (class 0)\n",
      "The model thought this was a T-shirt/top (class 0), and it was actually a T-shirt/top (class 0)\n",
      "The model thought this was a Bag (class 8), and it was actually a Bag (class 8)\n",
      "The model thought this was a Ankle boot (class 9), and it was actually a Ankle boot (class 9)\n",
      "The model thought this was a Shirt (class 6), and it was actually a Dress (class 3)\n",
      "The model thought this was a Trouser (class 1), and it was actually a Trouser (class 1)\n",
      "The model thought this was a Coat (class 4), and it was actually a Coat (class 4)\n",
      "The model thought this was a Dress (class 3), and it was actually a Dress (class 3)\n",
      "The model thought this was a T-shirt/top (class 0), and it was actually a T-shirt/top (class 0)\n",
      "The model thought this was a Shirt (class 6), and it was actually a Dress (class 3)\n",
      "The model thought this was a Sneaker (class 7), and it was actually a Sneaker (class 7)\n",
      "The model thought this was a Bag (class 8), and it was actually a Bag (class 8)\n",
      "The model thought this was a Pullover (class 2), and it was actually a Shirt (class 6)\n",
      "The model thought this was a T-shirt/top (class 0), and it was actually a T-shirt/top (class 0)\n",
      "The model thought this was a Ankle boot (class 9), and it was actually a Ankle boot (class 9)\n",
      "The model thought this was a Pullover (class 2), and it was actually a Pullover (class 2)\n",
      "The model thought this was a Coat (class 4), and it was actually a Shirt (class 6)\n",
      "The model thought this was a T-shirt/top (class 0), and it was actually a T-shirt/top (class 0)\n",
      "The model thought this was a T-shirt/top (class 0), and it was actually a T-shirt/top (class 0)\n",
      "The model thought this was a Coat (class 4), and it was actually a Coat (class 4)\n",
      "The model thought this was a Pullover (class 2), and it was actually a Pullover (class 2)\n",
      "The model thought this was a Ankle boot (class 9), and it was actually a Ankle boot (class 9)\n",
      "The model thought this was a Shirt (class 6), and it was actually a Shirt (class 6)\n",
      "The model thought this was a Coat (class 4), and it was actually a Coat (class 4)\n",
      "The model thought this was a T-shirt/top (class 0), and it was actually a Shirt (class 6)\n",
      "The model thought this was a Sandal (class 5), and it was actually a Sandal (class 5)\n",
      "The model thought this was a Ankle boot (class 9), and it was actually a Ankle boot (class 9)\n",
      "The model thought this was a Sandal (class 5), and it was actually a Sandal (class 5)\n",
      "The model thought this was a Dress (class 3), and it was actually a Dress (class 3)\n",
      "The model thought this was a Sandal (class 5), and it was actually a Sandal (class 5)\n",
      "The model thought this was a Shirt (class 6), and it was actually a Pullover (class 2)\n",
      "The model thought this was a Bag (class 8), and it was actually a Bag (class 8)\n",
      "The model thought this was a Sneaker (class 7), and it was actually a Bag (class 8)\n",
      "The model thought this was a Coat (class 4), and it was actually a Coat (class 4)\n",
      "The model thought this was a Ankle boot (class 9), and it was actually a Sneaker (class 7)\n",
      "The model thought this was a Shirt (class 6), and it was actually a Shirt (class 6)\n",
      "The model thought this was a Trouser (class 1), and it was actually a Trouser (class 1)\n",
      "The model thought this was a Sandal (class 5), and it was actually a Sandal (class 5)\n",
      "The model thought this was a T-shirt/top (class 0), and it was actually a T-shirt/top (class 0)\n",
      "The model thought this was a Trouser (class 1), and it was actually a Trouser (class 1)\n",
      "The model thought this was a Ankle boot (class 9), and it was actually a Sneaker (class 7)\n",
      "The model thought this was a Dress (class 3), and it was actually a Dress (class 3)\n",
      "The model thought this was a Dress (class 3), and it was actually a Dress (class 3)\n",
      "The model thought this was a Ankle boot (class 9), and it was actually a Ankle boot (class 9)\n",
      "The model thought this was a Trouser (class 1), and it was actually a Trouser (class 1)\n",
      "The model thought this was a Sneaker (class 7), and it was actually a Sneaker (class 7)\n",
      "The model thought this was a Dress (class 3), and it was actually a Coat (class 4)\n",
      "The model thought this was a T-shirt/top (class 0), and it was actually a T-shirt/top (class 0)\n",
      "The model thought this was a Coat (class 4), and it was actually a Pullover (class 2)\n",
      "The model thought this was a Sneaker (class 7), and it was actually a Sneaker (class 7)\n",
      "The model thought this was a T-shirt/top (class 0), and it was actually a T-shirt/top (class 0)\n",
      "The model thought this was a Bag (class 8), and it was actually a Bag (class 8)\n",
      "The model thought this was a Shirt (class 6), and it was actually a Shirt (class 6)\n",
      "The model thought this was a Dress (class 3), and it was actually a Dress (class 3)\n",
      "The model thought this was a Pullover (class 2), and it was actually a Pullover (class 2)\n",
      "The model thought this was a Trouser (class 1), and it was actually a Trouser (class 1)\n",
      "The model thought this was a T-shirt/top (class 0), and it was actually a T-shirt/top (class 0)\n",
      "The model thought this was a Sneaker (class 7), and it was actually a Sneaker (class 7)\n",
      "The model thought this was a T-shirt/top (class 0), and it was actually a T-shirt/top (class 0)\n"
     ]
    }
   ],
   "source": [
    "# Depending upon where you are running the model, you will need to change the gateway_url below.\n",
    "\n",
    "# The code below determines the gateway_url for Kubernetes + istio on a Minikube environment \n",
    "# with Docker driver and a minikube tunnel.\n",
    "\n",
    "# If you are serving the model on any other (non-Minikube) Kubernetes cluster with Istio installed, \n",
    "# refer to instructions here on determining your gateway_url\n",
    "# https://istio.io/latest/docs/setup/getting-started/#determining-the-ingress-ip-and-ports\n",
    "\n",
    "ingress_host_list = !(minikube ip)\n",
    "# ingress_port_list = !(kubectl -n istio-system get service istio-ingressgateway -o jsonpath='{.spec.ports[?(@.name==\"http2\")].nodePort}')\n",
    "ingress_port_list = [80]\n",
    "gateway_url = \"http://{}:{}\".format(ingress_host_list[0], ingress_port_list[0])\n",
    "model_url = \"{}/v1/models/fashionmnist:predict\".format(gateway_url)\n",
    "\n",
    "\n",
    "for i in range(100000): # send a image at random to the model server and get back the prediction; do it a 1000 times.\n",
    "    rando = random.randint(0,len(test_images)-1)\n",
    "    data = json.dumps({\"signature_name\": \"serving_default\", \"instances\": test_images[rando:rando + 1].tolist()})\n",
    "    json_response = requests.post(model_url, data=data, headers=headers)\n",
    "    try:\n",
    "        predictions = json.loads(json_response.text)['predictions']\n",
    "    except ValueError as e:\n",
    "        print(\"Error: \", e)\n",
    "        print(json_response)\n",
    "        print(json_response.text)\n",
    "    \n",
    "    if i % 50 == 0:\n",
    "        print('The model thought this was a {} (class {}), and it was actually a {} (class {})'.format(\n",
    "            class_names[np.argmax(predictions[0])], np.argmax(predictions[0]), class_names[test_labels[rando]], test_labels[rando]))\n",
    "\n",
    "    time.sleep(0.1)"
   ]
  },
  {
   "cell_type": "code",
   "execution_count": null,
   "metadata": {},
   "outputs": [],
   "source": []
  }
 ],
 "metadata": {
  "kernelspec": {
   "display_name": "Python 3",
   "language": "python",
   "name": "python3"
  },
  "language_info": {
   "codemirror_mode": {
    "name": "ipython",
    "version": 3
   },
   "file_extension": ".py",
   "mimetype": "text/x-python",
   "name": "python",
   "nbconvert_exporter": "python",
   "pygments_lexer": "ipython3",
   "version": "3.8.5"
  }
 },
 "nbformat": 4,
 "nbformat_minor": 4
}
