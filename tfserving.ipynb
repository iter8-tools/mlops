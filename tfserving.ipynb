{
 "cells": [
  {
   "cell_type": "code",
   "execution_count": 47,
   "metadata": {},
   "outputs": [
    {
     "name": "stdout",
     "output_type": "stream",
     "text": [
      "TensorFlow version: 2.3.0\n"
     ]
    }
   ],
   "source": [
    "import sys\n",
    "import tensorflow as tf\n",
    "from tensorflow import keras\n",
    "from tensorflow.keras import models, layers\n",
    "import matplotlib.pyplot as plt\n",
    "import numpy as np\n",
    "\n",
    "# Confirm that we're using Python 3\n",
    "assert sys.version_info.major == 3, 'Oops, not running Python 3. Use Runtime > Change runtime type'\n",
    "print('TensorFlow version: {}'.format(tf.__version__))"
   ]
  },
  {
   "cell_type": "markdown",
   "metadata": {},
   "source": [
    "# Load fashion mnist data"
   ]
  },
  {
   "cell_type": "code",
   "execution_count": 3,
   "metadata": {},
   "outputs": [
    {
     "name": "stdout",
     "output_type": "stream",
     "text": [
      "\n",
      "train_images.shape: (60000, 28, 28, 1), of float64\n",
      "test_images.shape: (10000, 28, 28, 1), of float64\n"
     ]
    }
   ],
   "source": [
    "fashion_mnist = keras.datasets.fashion_mnist\n",
    "(train_images, train_labels), (test_images, test_labels) = fashion_mnist.load_data()\n",
    "\n",
    "# scale the values to 0.0 to 1.0\n",
    "train_images = train_images / 255.0\n",
    "test_images = test_images / 255.0\n",
    "\n",
    "# reshape for feeding into the model\n",
    "train_images = train_images.reshape(train_images.shape[0], 28, 28, 1)\n",
    "test_images = test_images.reshape(test_images.shape[0], 28, 28, 1)\n",
    "\n",
    "class_names = ['T-shirt/top', 'Trouser', 'Pullover', 'Dress', 'Coat',\n",
    "               'Sandal', 'Shirt', 'Sneaker', 'Bag', 'Ankle boot']\n",
    "\n",
    "print('\\ntrain_images.shape: {}, of {}'.format(train_images.shape, train_images.dtype))\n",
    "print('test_images.shape: {}, of {}'.format(test_images.shape, test_images.dtype))"
   ]
  },
  {
   "cell_type": "markdown",
   "metadata": {},
   "source": [
    "# Build version 1 of the fashion mnist image classification model"
   ]
  },
  {
   "cell_type": "code",
   "execution_count": 10,
   "metadata": {},
   "outputs": [
    {
     "name": "stdout",
     "output_type": "stream",
     "text": [
      "Model: \"sequential_2\"\n",
      "_________________________________________________________________\n",
      "Layer (type)                 Output Shape              Param #   \n",
      "=================================================================\n",
      "Conv1 (Conv2D)               (None, 13, 13, 8)         80        \n",
      "_________________________________________________________________\n",
      "flatten_2 (Flatten)          (None, 1352)              0         \n",
      "_________________________________________________________________\n",
      "Softmax (Dense)              (None, 10)                13530     \n",
      "=================================================================\n",
      "Total params: 13,610\n",
      "Trainable params: 13,610\n",
      "Non-trainable params: 0\n",
      "_________________________________________________________________\n",
      "Epoch 1/5\n",
      "1875/1875 [==============================] - 2s 1ms/step - loss: 0.5431 - accuracy: 0.8108\n",
      "Epoch 2/5\n",
      "1875/1875 [==============================] - 2s 987us/step - loss: 0.4106 - accuracy: 0.8553\n",
      "Epoch 3/5\n",
      "1875/1875 [==============================] - 2s 1ms/step - loss: 0.3764 - accuracy: 0.8688\n",
      "Epoch 4/5\n",
      "1875/1875 [==============================] - 2s 1ms/step - loss: 0.3559 - accuracy: 0.8734\n",
      "Epoch 5/5\n",
      "1875/1875 [==============================] - 2s 1ms/step - loss: 0.3404 - accuracy: 0.8784\n",
      "313/313 [==============================] - 0s 585us/step - loss: 0.3825 - accuracy: 0.8632\n",
      "\n",
      "Test accuracy: 0.8632000088691711\n",
      "INFO:tensorflow:Assets written to: ./models/1/assets\n",
      "313/313 [==============================] - 0s 683us/step - loss: 0.3825 - accuracy: 0.8632\n",
      "\n",
      "Reconstructed test accuracy: 0.8632000088691711\n"
     ]
    }
   ],
   "source": [
    "model1 = keras.Sequential([\n",
    "  keras.layers.Conv2D(input_shape=(28,28,1), filters=8, kernel_size=3, \n",
    "                      strides=2, activation='relu', name='Conv1'),\n",
    "  keras.layers.Flatten(),\n",
    "  keras.layers.Dense(10, activation=tf.nn.softmax, name='Softmax')\n",
    "])\n",
    "model1.summary()\n",
    "\n",
    "epochs = 5\n",
    "\n",
    "compilation_args = {\n",
    "    \"optimizer\": 'adam',\n",
    "    \"loss\": 'sparse_categorical_crossentropy',\n",
    "    \"metrics\": ['accuracy']\n",
    "}\n",
    "\n",
    "model1.compile(**compilation_args)\n",
    "model1.fit(train_images, train_labels, epochs=epochs)\n",
    "\n",
    "test_loss, test_acc = model1.evaluate(test_images, test_labels)\n",
    "print('\\nTest accuracy: {}'.format(test_acc))\n",
    "\n",
    "# save it\n",
    "MODEL_DIR='./models/1'\n",
    "model1.save(MODEL_DIR)\n",
    "\n",
    "# reconstruct it by loading\n",
    "reconstructed_model1 = keras.models.load_model(MODEL_DIR)\n",
    "# compile the loaded model\n",
    "reconstructed_model1.compile(**compilation_args)\n",
    "\n",
    "# ensure loaded model returns same predictions as saved model\n",
    "reconstructed_test_loss, reconstructed_test_acc = reconstructed_model1.evaluate(test_images, test_labels)\n",
    "np.testing.assert_allclose(\n",
    "    model1.predict(test_images), reconstructed_model1.predict(test_images)\n",
    ")\n",
    "\n",
    "print('\\nReconstructed test accuracy: {}'.format(reconstructed_test_acc))"
   ]
  },
  {
   "cell_type": "markdown",
   "metadata": {},
   "source": [
    "# Build version 2 of the fashion mnist image classification model"
   ]
  },
  {
   "cell_type": "code",
   "execution_count": 11,
   "metadata": {},
   "outputs": [
    {
     "name": "stdout",
     "output_type": "stream",
     "text": [
      "Model: \"sequential_3\"\n",
      "_________________________________________________________________\n",
      "Layer (type)                 Output Shape              Param #   \n",
      "=================================================================\n",
      "Conv1 (Conv2D)               (None, 13, 13, 16)        272       \n",
      "_________________________________________________________________\n",
      "flatten_3 (Flatten)          (None, 2704)              0         \n",
      "_________________________________________________________________\n",
      "Softmax (Dense)              (None, 10)                27050     \n",
      "=================================================================\n",
      "Total params: 27,322\n",
      "Trainable params: 27,322\n",
      "Non-trainable params: 0\n",
      "_________________________________________________________________\n",
      "Epoch 1/5\n",
      "1875/1875 [==============================] - 3s 2ms/step - loss: 0.5181 - accuracy: 0.8187\n",
      "Epoch 2/5\n",
      "1875/1875 [==============================] - 3s 2ms/step - loss: 0.3849 - accuracy: 0.8658\n",
      "Epoch 3/5\n",
      "1875/1875 [==============================] - 3s 2ms/step - loss: 0.3393 - accuracy: 0.8807\n",
      "Epoch 4/5\n",
      "1875/1875 [==============================] - 3s 2ms/step - loss: 0.3115 - accuracy: 0.8909\n",
      "Epoch 5/5\n",
      "1875/1875 [==============================] - 3s 1ms/step - loss: 0.2914 - accuracy: 0.8959\n",
      "313/313 [==============================] - 0s 615us/step - loss: 0.3270 - accuracy: 0.8845\n",
      "\n",
      "Test accuracy: 0.8845000267028809\n",
      "INFO:tensorflow:Assets written to: ./models/2/assets\n",
      "313/313 [==============================] - 0s 779us/step - loss: 0.3270 - accuracy: 0.8845\n",
      "\n",
      "Reconstructed test accuracy: 0.8845000267028809\n"
     ]
    }
   ],
   "source": [
    "model2 = keras.Sequential([\n",
    "  keras.layers.Conv2D(input_shape=(28,28,1), filters=16, kernel_size=4, \n",
    "                      strides=2, activation='relu', name='Conv1'),\n",
    "  keras.layers.Flatten(),\n",
    "  keras.layers.Dense(10, activation=tf.nn.softmax, name='Softmax')\n",
    "])\n",
    "model2.summary()\n",
    "\n",
    "epochs = 5\n",
    "\n",
    "model2.compile(**compilation_args)\n",
    "model2.fit(train_images, train_labels, epochs=epochs)\n",
    "\n",
    "test_loss, test_acc = model2.evaluate(test_images, test_labels)\n",
    "print('\\nTest accuracy: {}'.format(test_acc))\n",
    "\n",
    "# save it\n",
    "MODEL_DIR='./models/2'\n",
    "model2.save(MODEL_DIR)\n",
    "\n",
    "# reconstruct it by loading\n",
    "reconstructed_model2 = keras.models.load_model(MODEL_DIR)\n",
    "# compile the loaded model\n",
    "reconstructed_model2.compile(**compilation_args)\n",
    "\n",
    "# ensure loaded model returns same predictions as saved model\n",
    "reconstructed_test_loss, reconstructed_test_acc = reconstructed_model2.evaluate(test_images, test_labels)\n",
    "np.testing.assert_allclose(\n",
    "    model2.predict(test_images), reconstructed_model2.predict(test_images)\n",
    ")\n",
    "\n",
    "print('\\nReconstructed test accuracy: {}'.format(reconstructed_test_acc))"
   ]
  },
  {
   "cell_type": "markdown",
   "metadata": {},
   "source": [
    "# Build version 3 of the fashion mnist image classification model"
   ]
  },
  {
   "cell_type": "code",
   "execution_count": 12,
   "metadata": {},
   "outputs": [
    {
     "name": "stdout",
     "output_type": "stream",
     "text": [
      "Model: \"sequential_4\"\n",
      "_________________________________________________________________\n",
      "Layer (type)                 Output Shape              Param #   \n",
      "=================================================================\n",
      "conv2d (Conv2D)              (None, 27, 27, 32)        160       \n",
      "_________________________________________________________________\n",
      "max_pooling2d (MaxPooling2D) (None, 13, 13, 32)        0         \n",
      "_________________________________________________________________\n",
      "conv2d_1 (Conv2D)            (None, 12, 12, 32)        4128      \n",
      "_________________________________________________________________\n",
      "flatten_4 (Flatten)          (None, 4608)              0         \n",
      "_________________________________________________________________\n",
      "dropout (Dropout)            (None, 4608)              0         \n",
      "_________________________________________________________________\n",
      "dense (Dense)                (None, 10)                46090     \n",
      "=================================================================\n",
      "Total params: 50,378\n",
      "Trainable params: 50,378\n",
      "Non-trainable params: 0\n",
      "_________________________________________________________________\n",
      "Epoch 1/20\n",
      "1875/1875 [==============================] - 17s 9ms/step - loss: 0.4891 - accuracy: 0.8224\n",
      "Epoch 2/20\n",
      "1875/1875 [==============================] - 25s 13ms/step - loss: 0.3636 - accuracy: 0.8699\n",
      "Epoch 3/20\n",
      "1875/1875 [==============================] - 25s 13ms/step - loss: 0.3266 - accuracy: 0.8824\n",
      "Epoch 4/20\n",
      "1875/1875 [==============================] - 25s 13ms/step - loss: 0.3029 - accuracy: 0.8913\n",
      "Epoch 5/20\n",
      "1875/1875 [==============================] - 26s 14ms/step - loss: 0.2875 - accuracy: 0.8969\n",
      "Epoch 6/20\n",
      "1875/1875 [==============================] - 24s 13ms/step - loss: 0.2743 - accuracy: 0.9001\n",
      "Epoch 7/20\n",
      "1875/1875 [==============================] - 25s 13ms/step - loss: 0.2622 - accuracy: 0.9042\n",
      "Epoch 8/20\n",
      "1875/1875 [==============================] - 24s 13ms/step - loss: 0.2550 - accuracy: 0.9064\n",
      "Epoch 9/20\n",
      "1875/1875 [==============================] - 24s 13ms/step - loss: 0.2467 - accuracy: 0.9112\n",
      "Epoch 10/20\n",
      "1875/1875 [==============================] - 23s 12ms/step - loss: 0.2438 - accuracy: 0.9117\n",
      "Epoch 11/20\n",
      "1875/1875 [==============================] - 23s 12ms/step - loss: 0.2370 - accuracy: 0.9122\n",
      "Epoch 12/20\n",
      "1875/1875 [==============================] - 23s 12ms/step - loss: 0.2323 - accuracy: 0.9156\n",
      "Epoch 13/20\n",
      "1875/1875 [==============================] - 23s 12ms/step - loss: 0.2301 - accuracy: 0.9151\n",
      "Epoch 14/20\n",
      "1875/1875 [==============================] - 23s 12ms/step - loss: 0.2259 - accuracy: 0.9176\n",
      "Epoch 15/20\n",
      "1875/1875 [==============================] - 23s 13ms/step - loss: 0.2209 - accuracy: 0.9186\n",
      "Epoch 16/20\n",
      "1875/1875 [==============================] - 23s 12ms/step - loss: 0.2170 - accuracy: 0.9198\n",
      "Epoch 17/20\n",
      "1875/1875 [==============================] - 24s 13ms/step - loss: 0.2164 - accuracy: 0.9196\n",
      "Epoch 18/20\n",
      "1875/1875 [==============================] - 23s 12ms/step - loss: 0.2112 - accuracy: 0.9221\n",
      "Epoch 19/20\n",
      "1875/1875 [==============================] - 23s 12ms/step - loss: 0.2104 - accuracy: 0.9219\n",
      "Epoch 20/20\n",
      "1875/1875 [==============================] - 23s 12ms/step - loss: 0.2095 - accuracy: 0.9222\n",
      "313/313 [==============================] - 1s 3ms/step - loss: 0.2521 - accuracy: 0.9093\n",
      "\n",
      "Test accuracy: 0.9093000292778015\n",
      "INFO:tensorflow:Assets written to: ./models/3/assets\n",
      "313/313 [==============================] - 1s 4ms/step - loss: 0.2521 - accuracy: 0.9093\n",
      "\n",
      "Reconstructed test accuracy: 0.9093000292778015\n"
     ]
    }
   ],
   "source": [
    "model3 = models.Sequential()\n",
    "model3.add(layers.Conv2D(32, (2, 2), activation='relu', input_shape=(28, 28, 1)))\n",
    "model3.add(layers.MaxPooling2D((2, 2)))\n",
    "model3.add(layers.Conv2D(32, (2, 2), activation='relu'))\n",
    "model3.add(layers.Flatten())\n",
    "model3.add(layers.Dropout(rate = 0.5))\n",
    "model3.add(layers.Dense(10, activation=tf.nn.softmax))\n",
    "\n",
    "model3.summary()\n",
    "\n",
    "epochs = 20\n",
    "\n",
    "model3.compile(**compilation_args)\n",
    "model3.fit(train_images, train_labels, epochs=epochs)\n",
    "\n",
    "test_loss, test_acc = model3.evaluate(test_images, test_labels)\n",
    "print('\\nTest accuracy: {}'.format(test_acc))\n",
    "\n",
    "# save it\n",
    "MODEL_DIR='./models/3'\n",
    "model3.save(MODEL_DIR)\n",
    "\n",
    "# reconstruct it by loading\n",
    "reconstructed_model3 = keras.models.load_model(MODEL_DIR)\n",
    "# compile the loaded model\n",
    "reconstructed_model3.compile(**compilation_args)\n",
    "\n",
    "# ensure loaded model returns same predictions as saved model\n",
    "reconstructed_test_loss, reconstructed_test_acc = reconstructed_model3.evaluate(test_images, test_labels)\n",
    "np.testing.assert_allclose(\n",
    "    model3.predict(test_images), reconstructed_model3.predict(test_images)\n",
    ")\n",
    "\n",
    "print('\\nReconstructed test accuracy: {}'.format(reconstructed_test_acc))"
   ]
  },
  {
   "cell_type": "markdown",
   "metadata": {},
   "source": [
    "# Create container images for the three model versions\n",
    "\n",
    "### These models are already dockerized and available from docker hub as pre-built images and are named/tagged as iter8/fashion_mnist:v1, iter8/fashion_mnist:v2, and iter8/fashion_mnist:v3 respectively.\n",
    "\n",
    "### For building your own images from these models, refer to instructions on https://github.com/iter8-tools/mlops.\n",
    "\n",
    "\n",
    "# Serve the model images on a kubernetes cluster\n",
    "### For deploying these on kubernetes on a kubernetes cluster, refer to instructions on https://github.com/iter8-tools/mlops."
   ]
  },
  {
   "cell_type": "markdown",
   "metadata": {},
   "source": [
    "# Send image traffic to the deployed model"
   ]
  },
  {
   "cell_type": "code",
   "execution_count": 46,
   "metadata": {},
   "outputs": [],
   "source": [
    "def show(idx, title):\n",
    "  plt.figure()\n",
    "  plt.imshow(test_images[idx].reshape(28,28))\n",
    "  plt.axis('off')\n",
    "  plt.title('\\n\\n{}'.format(title), fontdict={'size': 16})"
   ]
  },
  {
   "cell_type": "code",
   "execution_count": 41,
   "metadata": {},
   "outputs": [
    {
     "data": {
      "image/png": "[encoded data removed]",
      "text/plain": [
       "<Figure size 432x288 with 1 Axes>"
      ]
     },
     "metadata": {
      "needs_background": "light"
     },
     "output_type": "display_data"
    }
   ],
   "source": [
    "import json\n",
    "import requests\n",
    "import random\n",
    "import time\n",
    "\n",
    "# Depending upon where you are running the model, you may need to change the model_host below\n",
    "# 1. If you are running the model on a minikube cluster, run \"minikube ip\" on your terminal \n",
    "# and use its output as model_host below\n",
    "# 2. If you are running the model locally (e.g., as local docker container), \n",
    "# use model_host = \"localhost\" below\n",
    "# 3. For other environments, refer to \n",
    "model_host = \"localhost\"\n",
    "model_url = \"http://{}:8501/v1/models/fashion_mnist:predict\".format(model_host)\n",
    "\n",
    "rando = random.randint(0,len(test_images)-1)\n",
    "data = json.dumps({\"signature_name\": \"serving_default\", \"instances\": test_images[rando:rando + 1].tolist()})\n",
    "headers = {\"content-type\": \"application/json\"}\n",
    "json_response = requests.post('http://localhost:8501/v1/models/fashion_mnist:predict', data=data, headers=headers)\n",
    "predictions = json.loads(json_response.text)['predictions']\n",
    "\n",
    "show(rando, 'The model thought this was a {} (class {}), and it was actually a {} (class {})'.format(\n",
    "  class_names[np.argmax(predictions[0])], np.argmax(predictions[0]), class_names[test_labels[rando]], test_labels[rando]))"
   ]
  },
  {
   "cell_type": "code",
   "execution_count": 45,
   "metadata": {},
   "outputs": [
    {
     "name": "stdout",
     "output_type": "stream",
     "text": [
      "The model thought this was a Shirt (class 6), and it was actually a Shirt (class 6)\n",
      "The model thought this was a Dress (class 3), and it was actually a Dress (class 3)\n",
      "The model thought this was a T-shirt/top (class 0), and it was actually a Shirt (class 6)\n",
      "The model thought this was a Trouser (class 1), and it was actually a Trouser (class 1)\n",
      "The model thought this was a Sandal (class 5), and it was actually a Sandal (class 5)\n",
      "The model thought this was a Shirt (class 6), and it was actually a Pullover (class 2)\n",
      "The model thought this was a Ankle boot (class 9), and it was actually a Ankle boot (class 9)\n"
     ]
    },
    {
     "ename": "KeyboardInterrupt",
     "evalue": "",
     "output_type": "error",
     "traceback": [
      "\u001b[0;31m---------------------------------------------------------------------------\u001b[0m",
      "\u001b[0;31mKeyboardInterrupt\u001b[0m                         Traceback (most recent call last)",
      "\u001b[0;32m<ipython-input-45-9250ccb625a2>\u001b[0m in \u001b[0;36m<module>\u001b[0;34m\u001b[0m\n\u001b[1;32m     14\u001b[0m       class_names[np.argmax(predictions[0])], np.argmax(predictions[0]), class_names[test_labels[rando]], test_labels[rando]))\n\u001b[1;32m     15\u001b[0m \u001b[0;34m\u001b[0m\u001b[0m\n\u001b[0;32m---> 16\u001b[0;31m     \u001b[0mtime\u001b[0m\u001b[0;34m.\u001b[0m\u001b[0msleep\u001b[0m\u001b[0;34m(\u001b[0m\u001b[0;36m1.0\u001b[0m\u001b[0;34m)\u001b[0m\u001b[0;34m\u001b[0m\u001b[0;34m\u001b[0m\u001b[0m\n\u001b[0m",
      "\u001b[0;31mKeyboardInterrupt\u001b[0m: "
     ]
    }
   ],
   "source": [
    "model_host = \"localhost\"\n",
    "model_url = \"http://{}:8501/v1/models/fashion_mnist:predict\".format(model_host)\n",
    "\n",
    "for i in range(1000): # send a image at random to the model server and get back the prediction; do it a 1000 times.\n",
    "    rando = random.randint(0,len(test_images)-1)\n",
    "    data = json.dumps({\"signature_name\": \"serving_default\", \"instances\": test_images[rando:rando + 1].tolist()})\n",
    "    headers = {\"content-type\": \"application/json\"}\n",
    "    json_response = requests.post('http://localhost:8501/v1/models/fashion_mnist:predict', data=data, headers=headers)\n",
    "    predictions = json.loads(json_response.text)['predictions']\n",
    "\n",
    "    print('The model thought this was a {} (class {}), and it was actually a {} (class {})'.format(\n",
    "      class_names[np.argmax(predictions[0])], np.argmax(predictions[0]), class_names[test_labels[rando]], test_labels[rando]))\n",
    "\n",
    "    time.sleep(1.0)"
   ]
  },
  {
   "cell_type": "code",
   "execution_count": null,
   "metadata": {},
   "outputs": [],
   "source": []
  }
 ],
 "metadata": {
  "kernelspec": {
   "display_name": "Python 3",
   "language": "python",
   "name": "python3"
  },
  "language_info": {
   "codemirror_mode": {
    "name": "ipython",
    "version": 3
   },
   "file_extension": ".py",
   "mimetype": "text/x-python",
   "name": "python",
   "nbconvert_exporter": "python",
   "pygments_lexer": "ipython3",
   "version": "3.8.5"
  }
 },
 "nbformat": 4,
 "nbformat_minor": 4
}
